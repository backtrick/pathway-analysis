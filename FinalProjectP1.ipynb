{
 "cells": [
  {
   "cell_type": "code",
   "execution_count": 1,
   "id": "97eb8b7d",
   "metadata": {},
   "outputs": [
    {
     "name": "stdout",
     "output_type": "stream",
     "text": [
      "/Users/patrick/Documents/CHBE194/Final_Project_Files\n"
     ]
    }
   ],
   "source": [
    "import os\n",
    "\n",
    "notebook_dir = os.getcwd()\n",
    "os.chdir(notebook_dir)\n",
    "\n",
    "import pandas as pd\n",
    "import numpy as np\n",
    "import trailblazer as tb\n",
    "import GTExGenie as gtx\n",
    "import pickle\n",
    "\n",
    "print(notebook_dir)"
   ]
  },
  {
   "cell_type": "code",
   "execution_count": 2,
   "id": "a4576395",
   "metadata": {},
   "outputs": [],
   "source": [
    "#read in human_proteins and gtex data\n",
    "human_proteins = pickle.load(open(notebook_dir+'/inputs/human_proteins_LoD.p','rb'))\n",
    "\n",
    "gtex = pd.read_csv(notebook_dir+'/inputs/GTEX_data_2020.gct',sep='\\t',skiprows=2,index_col=0)"
   ]
  },
  {
   "cell_type": "code",
   "execution_count": 3,
   "id": "70db4f18",
   "metadata": {},
   "outputs": [],
   "source": [
    "#use trailblazer to get a data frame of human genes from KEGG\n",
    "human_genes = tb.getKeggGenes('hsa')\n",
    "\n",
    "#use GTEx Genie to match the genes listed in gtex to KEGG ID\n",
    "gtex_kegg_dictionary = gtx.KeggMatch(gtex, human_genes)"
   ]
  },
  {
   "cell_type": "code",
   "execution_count": 4,
   "id": "c18a1bb5",
   "metadata": {},
   "outputs": [],
   "source": [
    "#read in attributes for gtex file\n",
    "attributes = pd.read_excel(notebook_dir+'/inputs/Sample_attributes_v8.xlsx')"
   ]
  },
  {
   "cell_type": "code",
   "execution_count": 5,
   "id": "b585c433",
   "metadata": {},
   "outputs": [],
   "source": [
    "#get a list of unique tissue types\n",
    "unique_tissues = gtx.tissueTypes(attributes)"
   ]
  },
  {
   "cell_type": "code",
   "execution_count": 6,
   "id": "f8c31718",
   "metadata": {},
   "outputs": [],
   "source": [
    "#determine specificity of each transcript, where 1 is most specific and 54 is least specific\n",
    "##This line of code will take several hours to complete, so I saved the output as a pickle\n",
    "\n",
    "#specificity = gtx.transcriptSpecificity(gtex,attributes)\n",
    "specificity = pickle.load(open(notebook_dir+'/inputs/specificity.pkl','rb'))"
   ]
  },
  {
   "cell_type": "code",
   "execution_count": null,
   "id": "54389067",
   "metadata": {},
   "outputs": [],
   "source": [
    "#run the cytoscape function to get files to upload\n",
    "#all files will be saved as .csv files in 'outputs' folder\n",
    "tb.cytoscape(unique_tissues,\n",
    "             gtex,\n",
    "             attributes,\n",
    "             KEGG_query='secreted',\n",
    "             nModules=20000,\n",
    "             addOn = {'Specificity':specificity})"
   ]
  },
  {
   "cell_type": "code",
   "execution_count": 7,
   "id": "ccae6fe5",
   "metadata": {},
   "outputs": [],
   "source": [
    "#these genes are gathered from PCA analysis of patient transcriptomic data\n",
    "predictive_obesity_genes = pickle.load(open(notebook_dir+'/inputs/top_1000.pickle','rb'))"
   ]
  },
  {
   "cell_type": "code",
   "execution_count": 9,
   "id": "9655aeaf",
   "metadata": {},
   "outputs": [
    {
     "name": "stdout",
     "output_type": "stream",
     "text": [
      "looping through unique tissues: 0/1 complete\n",
      "writing cytoscape attributesK\u001b[K\u001b[K\u001b[K\u001b[K\u001b[K\u001b[K\u001b[K\u001b[K                                                                                                                                                                                                                                                                                                                                                                                                                                                                                                                                                                                                                                                                                                                                                                                                                                                                                                                                                                                                                                                                                                                                                                                                                                                                                                  "
     ]
    }
   ],
   "source": [
    "#use the cytoscape function to generate a network with predictive obesity genes included in the attributes file\n",
    "tb.cytoscape(['Adipose - Visceral'],\n",
    "             gtex,\n",
    "             attributes,\n",
    "             nModules = 100000,\n",
    "             version = '_obesity_genes',\n",
    "             addOn = {'Specificity':specificity,\n",
    "                      'Predictive_Genes':predictive_obesity_genes})"
   ]
  },
  {
   "cell_type": "markdown",
   "id": "9844312d",
   "metadata": {},
   "source": [
    "#### Based on the network of visceral adipose tissue, several genes stand out for their combination of specificity, high expression, and nodal centrality. \n",
    "\n",
    "PLD1, LYN, CSF2RB, PTPRJ, PLD1, NLRP12, AMH, CHUK, CSCL1, GCK, VAV3, IL1B:\n",
    "\n",
    "NLRP12 is an inflammatory signaling receptor\n",
    "\n",
    "CHUK is an inhibitor of NFkB, which is a transcription factor involved in regulating many downstreatm targets, expecially ones involved in inflammation. \n",
    "\n",
    "LYN is a target of an insulin-mimicking drug called glimepiride. It also seems to be vital for proper liver regeneration. \n",
    "\n",
    "IL1B is certainly a propogator of inflammation, and is downstream of NFkB\n",
    "\n",
    "PLD1 seems to be involved in exocytosis, and has been linked to Type II Diabetes.\n",
    "\n",
    "I find it exciting that some of the predictive genes are ones that have been linked to T2D and insulin signaling. "
   ]
  },
  {
   "cell_type": "code",
   "execution_count": null,
   "id": "fec6c4fd",
   "metadata": {},
   "outputs": [],
   "source": []
  }
 ],
 "metadata": {
  "kernelspec": {
   "display_name": "Python 3 (ipykernel)",
   "language": "python",
   "name": "python3"
  },
  "language_info": {
   "codemirror_mode": {
    "name": "ipython",
    "version": 3
   },
   "file_extension": ".py",
   "mimetype": "text/x-python",
   "name": "python",
   "nbconvert_exporter": "python",
   "pygments_lexer": "ipython3",
   "version": "3.11.5"
  }
 },
 "nbformat": 4,
 "nbformat_minor": 5
}
